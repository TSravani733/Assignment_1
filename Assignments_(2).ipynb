{
  "cells": [
    {
      "cell_type": "code",
      "execution_count": null,
      "metadata": {
        "id": "YSFMJtYrbBAl"
      },
      "outputs": [],
      "source": [
        "#Consider the string given below and answer the following questions\n",
        "string = \"OQYWFClFhFGAvIWYwGKpmZhnJiyzTslSIhSwvOsqJMEphzmifTkyqOMNpnOtXZxmCfgDYqbaBHAUvIWhMnvwZnEMVDvmEfLrDoQnAZgQEgXQVnmSYkfedpAdhrtpOgORpYLRZYGWdhWYuqQssCUXtTzKRDAhpjUheOzUroZNzWFtZOVwIapzUYtbSbjYNErzQ\"\n"
      ]
    },
    {
      "cell_type": "markdown",
      "metadata": {
        "id": "LHoY6xkPbBAm"
      },
      "source": [
        "####  Calculate the number of characters in the string\n",
        "\n",
        "-  193\n",
        "-  200\n",
        "-  300\n",
        "-  500\n"
      ]
    },
    {
      "cell_type": "code",
      "execution_count": 1,
      "metadata": {
        "colab": {
          "base_uri": "https://localhost:8080/"
        },
        "id": "p7H7Q0s4bBAn",
        "outputId": "2b4e26a4-f9dd-42a8-df4c-05f65a0a9103"
      },
      "outputs": [
        {
          "output_type": "stream",
          "name": "stdout",
          "text": [
            "Number: 193, Characters: 3\n",
            "Number: 200, Characters: 3\n",
            "Number: 300, Characters: 3\n",
            "Number: 500, Characters: 3\n"
          ]
        }
      ],
      "source": [
        "# Type your code here\n",
        "numbers = [\"193\", \"200\", \"300\", \"500\"]\n",
        "\n",
        "for num in numbers:\n",
        "    print(f\"Number: {num}, Characters: {len(num)}\")\n",
        "\n"
      ]
    },
    {
      "cell_type": "markdown",
      "metadata": {
        "id": "oCXD-9HSbBAn"
      },
      "source": [
        "#### Count the number of occurences of 'a' in the string\n",
        "\n",
        "-  1\n",
        "-  2\n",
        "-  10\n",
        "-  5"
      ]
    },
    {
      "cell_type": "code",
      "execution_count": 3,
      "metadata": {
        "colab": {
          "base_uri": "https://localhost:8080/"
        },
        "id": "g_lAtXeDbBAn",
        "outputId": "d2c33eb6-3c79-4558-9ac5-f997cde69d29"
      },
      "outputs": [
        {
          "output_type": "stream",
          "name": "stdout",
          "text": [
            "Number of occurrences of 'a': 6\n"
          ]
        }
      ],
      "source": [
        "# Type your code here\n",
        "def count_a(s):\n",
        "    return s.count('a')\n",
        "\n",
        "sample_string = \"banana apple avocado\"\n",
        "\n",
        "print(\"Number of occurrences of 'a':\", count_a(sample_string))\n"
      ]
    },
    {
      "cell_type": "markdown",
      "metadata": {
        "id": "F-Y3UWKkbBAn"
      },
      "source": [
        "#### Identify whether the string starts with 'if'.\n",
        "\n",
        "-  True\n",
        "-  False"
      ]
    },
    {
      "cell_type": "code",
      "execution_count": 4,
      "metadata": {
        "colab": {
          "base_uri": "https://localhost:8080/"
        },
        "id": "mLDWwlQpbBAn",
        "outputId": "1f38a866-99e8-4f52-f827-4ab980e4a11b"
      },
      "outputs": [
        {
          "output_type": "stream",
          "name": "stdout",
          "text": [
            "True\n"
          ]
        }
      ],
      "source": [
        "# Type your code here\n",
        "def starts_with_if(s):\n",
        "    return s.startswith(\"if\")\n",
        "\n",
        "sample_string = \"if condition met\"\n",
        "\n",
        "print(starts_with_if(sample_string))\n"
      ]
    },
    {
      "cell_type": "markdown",
      "metadata": {
        "id": "m5rtpNNnbBAn"
      },
      "source": [
        "#### Return the substring starting at index 63 and ending at index 88  [Both the indexes are inclusive]\n",
        "\n",
        "-  'OQYWFClFhFGA'\n",
        "-  'mCfgDYqbaBHAUvIWhMnvwZnEMV'\n",
        "-  'IWYwGKpmZhnJiyzTslSIhSwv'\n",
        "-  'JMEphzmifTkyqOMNpnOtXZ'"
      ]
    },
    {
      "cell_type": "code",
      "execution_count": 5,
      "metadata": {
        "collapsed": true,
        "colab": {
          "base_uri": "https://localhost:8080/"
        },
        "id": "Sj8kNWQpbBAo",
        "outputId": "dc96aa31-b74b-444e-a642-fa9b74e5f061"
      },
      "outputs": [
        {
          "output_type": "stream",
          "name": "stdout",
          "text": [
            "String is too short for the given range.\n",
            "String is too short for the given range.\n",
            "String is too short for the given range.\n",
            "String is too short for the given range.\n"
          ]
        }
      ],
      "source": [
        "# Type your code here\n",
        "def get_substring(s):\n",
        "    start, end = 63, 88\n",
        "    if len(s) > end:\n",
        "        return s[start:end+1]\n",
        "    else:\n",
        "        return \"String is too short for the given range.\"\n",
        "\n",
        "strings = [\n",
        "    \"OQYWFClFhFGA\",\n",
        "    \"mCfgDYqbaBHAUvIWhMnvwZnEMV\",\n",
        "    \"IWYwGKpmZhnJiyzTslSIhSwv\",\n",
        "    \"JMEphzmifTkyqOMNpnOtXZ\"\n",
        "]\n",
        "\n",
        "for s in strings:\n",
        "    print(get_substring(s))\n"
      ]
    },
    {
      "cell_type": "markdown",
      "metadata": {
        "id": "0_eUH80GbBAo"
      },
      "source": [
        "#### Identify the character at index 45\n",
        "\n",
        "-  a\n",
        "-  b\n",
        "-  z\n",
        "-  x"
      ]
    },
    {
      "cell_type": "code",
      "execution_count": 6,
      "metadata": {
        "colab": {
          "base_uri": "https://localhost:8080/"
        },
        "id": "gM096XPHbBAp",
        "outputId": "c5c903c2-0ec8-4069-bd0e-58907e87fc8e"
      },
      "outputs": [
        {
          "output_type": "stream",
          "name": "stdout",
          "text": [
            "Character at index 45: T\n"
          ]
        }
      ],
      "source": [
        "# Type your code here\n",
        "def get_character(s):\n",
        "    index = 45\n",
        "    if len(s) > index:\n",
        "        return s[index]\n",
        "    else:\n",
        "        return \"String is too short for index 45.\"\n",
        "\n",
        "sample_string = \"abcdefghijklmnopqrstuvwxyzABCDEFGHIJKLMNOPQRSTUVWXYZ1234567890\"\n",
        "\n",
        "print(\"Character at index 45:\", get_character(sample_string))\n"
      ]
    },
    {
      "cell_type": "code",
      "execution_count": null,
      "metadata": {
        "collapsed": true,
        "id": "NsJfuwwSbBAp"
      },
      "outputs": [],
      "source": []
    }
  ],
  "metadata": {
    "kernelspec": {
      "display_name": "Python 3",
      "language": "python",
      "name": "python3"
    },
    "language_info": {
      "codemirror_mode": {
        "name": "ipython",
        "version": 3
      },
      "file_extension": ".py",
      "mimetype": "text/x-python",
      "name": "python",
      "nbconvert_exporter": "python",
      "pygments_lexer": "ipython3",
      "version": "3.7.3"
    },
    "colab": {
      "provenance": []
    }
  },
  "nbformat": 4,
  "nbformat_minor": 0
}