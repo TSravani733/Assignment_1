{
  "nbformat": 4,
  "nbformat_minor": 0,
  "metadata": {
    "colab": {
      "provenance": []
    },
    "kernelspec": {
      "name": "python3",
      "display_name": "Python 3"
    },
    "language_info": {
      "name": "python"
    }
  },
  "cells": [
    {
      "cell_type": "markdown",
      "source": [
        "*** USE THE CONCEPT OF LOOPS TO SOLVE THE BELOW PROGRAMS***"
      ],
      "metadata": {
        "id": "LntIlHO5OfPf"
      }
    },
    {
      "cell_type": "markdown",
      "source": [
        "1) Python program to count the total number of digits in a number.\n",
        "\n",
        "TAKE THE INPUT NUMBER : 123456\n",
        "\n",
        "\n",
        "\n"
      ],
      "metadata": {
        "id": "vxHfbNtoOfRV"
      }
    },
    {
      "cell_type": "code",
      "source": [
        "#wRITE YOUR CODE HERE\n",
        "num = 123456\n",
        "\n",
        "digit_count = len(str(num))\n",
        "\n",
        "print(\"Total number of digits:\", digit_count)\n"
      ],
      "metadata": {
        "id": "_PKg5umLO2-q",
        "colab": {
          "base_uri": "https://localhost:8080/"
        },
        "outputId": "af4f7956-8a0e-4fd9-d991-67a4db6e2b45"
      },
      "execution_count": 2,
      "outputs": [
        {
          "output_type": "stream",
          "name": "stdout",
          "text": [
            "Total number of digits: 6\n"
          ]
        }
      ]
    },
    {
      "cell_type": "markdown",
      "source": [
        "2) Python program to count the number of even and odd numbers from a series of numbers.\n",
        "\n",
        "num_list = [1,3,5,6,99,134,55]"
      ],
      "metadata": {
        "id": "bXf8Z8feOfTn"
      }
    },
    {
      "cell_type": "code",
      "source": [
        "#WRITE YOUR CODE HERE\n",
        "num_list = [1, 3, 5, 6, 99, 134, 55]\n",
        "\n",
        "even_count = 0\n",
        "odd_count = 0\n",
        "\n",
        "for num in num_list:\n",
        "    if num % 2 == 0:\n",
        "        even_count += 1\n",
        "    else:\n",
        "        odd_count += 1\n",
        "\n",
        "print(\"Total even numbers:\", even_count)\n",
        "print(\"Total odd numbers:\", odd_count)\n"
      ],
      "metadata": {
        "id": "QzZjjwRCPIip",
        "colab": {
          "base_uri": "https://localhost:8080/"
        },
        "outputId": "d465fc96-ac4d-47c4-ec6a-09950d3441f0"
      },
      "execution_count": 3,
      "outputs": [
        {
          "output_type": "stream",
          "name": "stdout",
          "text": [
            "Total even numbers: 2\n",
            "Total odd numbers: 5\n"
          ]
        }
      ]
    },
    {
      "cell_type": "markdown",
      "source": [
        "3) Python program to get the Fibonacci series between 0 to 50."
      ],
      "metadata": {
        "id": "Ae6CdE7hOfWZ"
      }
    },
    {
      "cell_type": "code",
      "source": [
        "#WRITE YOUR CODE HERE\n",
        "a, b = 0, 1\n",
        "\n",
        "print(\"Fibonacci series between 0 and 50:\")\n",
        "while a <= 50:\n",
        "    print(a, end=\" \")\n",
        "    a, b = b, a + b\n"
      ],
      "metadata": {
        "id": "_IIZYCLPPTwI",
        "colab": {
          "base_uri": "https://localhost:8080/"
        },
        "outputId": "a4d820f5-4526-467a-86ce-70a43e6d77f0"
      },
      "execution_count": 4,
      "outputs": [
        {
          "output_type": "stream",
          "name": "stdout",
          "text": [
            "Fibonacci series between 0 and 50:\n",
            "0 1 1 2 3 5 8 13 21 34 "
          ]
        }
      ]
    },
    {
      "cell_type": "markdown",
      "source": [
        "4) Python program that accepts a string and calculates the number of digits and letters.\n",
        "\n",
        "Input\n",
        "\n",
        "WEBBLINDERS1234"
      ],
      "metadata": {
        "id": "VYbquVMROfZz"
      }
    },
    {
      "cell_type": "code",
      "source": [
        "#WRITE YOUR CODE HERE\n",
        "input_string = \"WEBBLINDERS1234\"\n",
        "letter_count = 0\n",
        "digit_count = 0\n",
        "\n",
        "for char in input_string:\n",
        "    if char.isalpha():  # Check if it's a letter\n",
        "        letter_count += 1\n",
        "    elif char.isdigit():  # Check if it's a digit\n",
        "        digit_count += 1\n",
        "\n",
        "print(\"Total letters:\", letter_count)\n",
        "print(\"Total digits:\", digit_count)\n"
      ],
      "metadata": {
        "id": "iGYeja7XPop3",
        "colab": {
          "base_uri": "https://localhost:8080/"
        },
        "outputId": "d48bff2a-7cca-4ae3-cea8-a5c3f6844e75"
      },
      "execution_count": 5,
      "outputs": [
        {
          "output_type": "stream",
          "name": "stdout",
          "text": [
            "Total letters: 11\n",
            "Total digits: 4\n"
          ]
        }
      ]
    },
    {
      "cell_type": "markdown",
      "source": [
        "5) Python program to display all numbers within a range except the prime numbers.\n",
        "\n",
        "INPUT RANGE : 30 TO 80"
      ],
      "metadata": {
        "id": "RiVenPeDPqs_"
      }
    },
    {
      "cell_type": "code",
      "source": [
        "#WRITE YOUR CODE HERE\n",
        "def is_prime(n):\n",
        "    if n < 2:\n",
        "        return False\n",
        "    for i in range(2, int(n**0.5) + 1):\n",
        "        if n % i == 0:\n",
        "            return False\n",
        "    return True\n",
        "\n",
        "start, end = 30, 80\n",
        "\n",
        "print(\"Numbers from\", start, \"to\", end, \"excluding primes:\")\n",
        "for num in range(start, end + 1):\n",
        "    if not is_prime(num):\n",
        "        print(num, end=\" \")\n"
      ],
      "metadata": {
        "id": "UTm21ayAPX02",
        "colab": {
          "base_uri": "https://localhost:8080/"
        },
        "outputId": "3eea57c8-8085-4a56-dbb6-2f705c8cf71f"
      },
      "execution_count": 6,
      "outputs": [
        {
          "output_type": "stream",
          "name": "stdout",
          "text": [
            "Numbers from 30 to 80 excluding primes:\n",
            "30 32 33 34 35 36 38 39 40 42 44 45 46 48 49 50 51 52 54 55 56 57 58 60 62 63 64 65 66 68 69 70 72 74 75 76 77 78 80 "
          ]
        }
      ]
    }
  ]
}