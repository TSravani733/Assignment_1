{
  "nbformat": 4,
  "nbformat_minor": 0,
  "metadata": {
    "colab": {
      "provenance": []
    },
    "kernelspec": {
      "name": "python3",
      "display_name": "Python 3"
    },
    "language_info": {
      "name": "python"
    }
  },
  "cells": [
    {
      "cell_type": "markdown",
      "source": [
        "1.Remove empty strings from the list1 of strings\n",
        "\n",
        "list1 = [\"Mike\", \" \", \"Emma\", \"Kelly\", \" \", \"Brad\"]\n",
        "\n",
        "\n"
      ],
      "metadata": {
        "id": "2caz_EPd5ui9"
      }
    },
    {
      "cell_type": "code",
      "source": [
        "# write your code here\n",
        "list1 = [\"Mike\", \" \", \"Emma\", \"Kelly\", \" \", \"Brad\"]\n",
        "\n",
        "filtered_list = [name for name in list1 if name.strip()]\n",
        "\n",
        "print(\"List after removing empty strings:\", filtered_list)\n"
      ],
      "metadata": {
        "id": "Q1BAsluP59Zu",
        "colab": {
          "base_uri": "https://localhost:8080/"
        },
        "outputId": "0f345e02-205b-4860-dfe0-441bee5a1504"
      },
      "execution_count": 1,
      "outputs": [
        {
          "output_type": "stream",
          "name": "stdout",
          "text": [
            "List after removing empty strings: ['Mike', 'Emma', 'Kelly', 'Brad']\n"
          ]
        }
      ]
    },
    {
      "cell_type": "markdown",
      "source": [
        "2.Write a program to add item 7000 after 6000 in the following Python List\n",
        "\n",
        "list1 = [10, 20, [300, 400, [5000, 6000], 500], 30, 40]\n",
        "\n",
        "expected o/p ; [10, 20, [300, 400, [5000, 6000, 7000], 500], 30, 40]"
      ],
      "metadata": {
        "id": "dy5zj1nH6EeC"
      }
    },
    {
      "cell_type": "code",
      "source": [
        "#  write your code here\n",
        "list1 = [10, 20, [300, 400, [5000, 6000], 500], 30, 40]\n",
        "\n",
        "list1[2][2].append(7000)\n",
        "\n",
        "print(\"Updated List:\", list1)\n"
      ],
      "metadata": {
        "id": "NvOK7zjS6Ypm",
        "colab": {
          "base_uri": "https://localhost:8080/"
        },
        "outputId": "d7069f1e-ad75-4868-d601-c7f9b5c4e84b"
      },
      "execution_count": 2,
      "outputs": [
        {
          "output_type": "stream",
          "name": "stdout",
          "text": [
            "Updated List: [10, 20, [300, 400, [5000, 6000, 7000], 500], 30, 40]\n"
          ]
        }
      ]
    },
    {
      "cell_type": "markdown",
      "source": [
        "3.You have given a Python list. Write a program to find value 20 in the list, and if it is present, replace it with 200. Only update the first occurrence of an item.\n",
        "\n",
        "list1 = [5, 10, 15, 20, 25, 50, 20]\n",
        "\n",
        "Expected output:\n",
        "[5, 10, 15, 200, 25, 50, 20]"
      ],
      "metadata": {
        "id": "eKYYcluk6EoM"
      }
    },
    {
      "cell_type": "code",
      "source": [
        "#write your code here\n",
        "list1 = [5, 10, 15, 20, 25, 50, 20]\n",
        "\n",
        "if 20 in list1:\n",
        "    index = list1.index(20)\n",
        "    list1[index] = 200\n",
        "\n",
        "print(\"Updated List:\", list1)\n"
      ],
      "metadata": {
        "id": "Rr8oqp1k6vOX",
        "colab": {
          "base_uri": "https://localhost:8080/"
        },
        "outputId": "00a45a3f-6ff6-4ac6-ba58-3a716f8de648"
      },
      "execution_count": 3,
      "outputs": [
        {
          "output_type": "stream",
          "name": "stdout",
          "text": [
            "Updated List: [5, 10, 15, 200, 25, 50, 20]\n"
          ]
        }
      ]
    },
    {
      "cell_type": "markdown",
      "source": [
        "4.Remove all occurrences of a specific item from a list.\n",
        "Given a Python list, write a program to remove all occurrences of item 20.\n",
        "\n",
        "list1 = [5, 20, 15, 20, 25, 50, 20]\n",
        "\n",
        "Expected output:\n",
        "\n",
        "[5, 15, 25, 50]"
      ],
      "metadata": {
        "id": "JbJhbXS46Eyn"
      }
    },
    {
      "cell_type": "code",
      "source": [
        "# write your code here\n",
        "list1 = [5, 20, 15, 20, 25, 50, 20]\n",
        "\n",
        "filtered_list = [num for num in list1 if num != 20]\n",
        "\n",
        "print(\"Updated List:\", filtered_list)\n"
      ],
      "metadata": {
        "id": "391fvowJ7DIs",
        "colab": {
          "base_uri": "https://localhost:8080/"
        },
        "outputId": "d392d7c3-bd54-44e8-892d-6502770ef865"
      },
      "execution_count": 4,
      "outputs": [
        {
          "output_type": "stream",
          "name": "stdout",
          "text": [
            "Updated List: [5, 15, 25, 50]\n"
          ]
        }
      ]
    },
    {
      "cell_type": "markdown",
      "source": [
        "5.Concatenate two lists in the following order\n",
        "\n",
        "list1 = [\"Hello \", \"take \"]\n",
        "\n",
        "list2 = [\"Dear\", \"Sir\"]\n",
        "\n",
        "Expected output:\n",
        "\n",
        "['Hello Dear', 'Hello Sir', 'take Dear', 'take Sir']"
      ],
      "metadata": {
        "id": "7wpuDD3R6E7g"
      }
    },
    {
      "cell_type": "code",
      "source": [
        "# write your code here\n",
        "\n",
        "list1 = [5, 20, 15, 20, 25, 50, 20]\n",
        "\n",
        "filtered_list = [num for num in list1 if num != 20]\n",
        "\n",
        "print(\"Updated List:\", filtered_list)\n"
      ],
      "metadata": {
        "id": "OAEqzjHy7b-h",
        "colab": {
          "base_uri": "https://localhost:8080/"
        },
        "outputId": "e4f6b1bb-f722-4fdc-daf9-1df11f4830f4"
      },
      "execution_count": 8,
      "outputs": [
        {
          "output_type": "stream",
          "name": "stdout",
          "text": [
            "Updated List: [5, 15, 25, 50]\n"
          ]
        }
      ]
    }
  ]
}