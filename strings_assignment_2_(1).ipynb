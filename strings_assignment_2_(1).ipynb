{
  "nbformat": 4,
  "nbformat_minor": 0,
  "metadata": {
    "colab": {
      "provenance": [],
      "toc_visible": true
    },
    "kernelspec": {
      "name": "python3",
      "display_name": "Python 3"
    },
    "language_info": {
      "name": "python"
    }
  },
  "cells": [
    {
      "cell_type": "markdown",
      "source": [
        "## Strings Assignment 2"
      ],
      "metadata": {
        "id": "EPGLodluvWuN"
      }
    },
    {
      "cell_type": "markdown",
      "source": [
        "1.Write a Python program to reverse a string.\n",
        "\n",
        "input : hellohowareyoudoingandhowisyourhealth"
      ],
      "metadata": {
        "id": "ddM5gMtivkoi"
      }
    },
    {
      "cell_type": "code",
      "source": [
        "# write your code here\n",
        "def reverse_string(s):\n",
        "    return s[::-1]\n",
        "input_string = \"hellohowareyoudoingandhowisyourhealth\"\n",
        "\n",
        "reversed_string = reverse_string(input_string)\n",
        "\n",
        "print(\"Reversed string:\", reversed_string)\n"
      ],
      "metadata": {
        "id": "RnP576ZZvtLH",
        "colab": {
          "base_uri": "https://localhost:8080/"
        },
        "outputId": "2014e5ad-f137-4c35-8597-b85c146081e3"
      },
      "execution_count": 1,
      "outputs": [
        {
          "output_type": "stream",
          "name": "stdout",
          "text": [
            "Reversed string: htlaehruoysiwohdnagnioduoyerawoholleh\n"
          ]
        }
      ]
    },
    {
      "cell_type": "markdown",
      "source": [
        "2.Write a Python program to capitalize the first letter of each word in a sentence.\n",
        "\n",
        "input : hello welcome to internship"
      ],
      "metadata": {
        "id": "jEVFoo3evnhr"
      }
    },
    {
      "cell_type": "code",
      "source": [
        "# write your code here\n",
        "def capitalize_words(sentence):\n",
        "    return sentence.title()\n",
        "\n",
        "input_sentence = \"hello welcome to internship\"\n",
        "\n",
        "capitalized_sentence = capitalize_words(input_sentence)\n",
        "\n",
        "print(\"Capitalized sentence:\", capitalized_sentence)\n"
      ],
      "metadata": {
        "id": "CTP3QwiGwT93",
        "colab": {
          "base_uri": "https://localhost:8080/"
        },
        "outputId": "d575283b-a38f-41a9-c58b-f8226d6d5760"
      },
      "execution_count": 2,
      "outputs": [
        {
          "output_type": "stream",
          "name": "stdout",
          "text": [
            "Capitalized sentence: Hello Welcome To Internship\n"
          ]
        }
      ]
    },
    {
      "cell_type": "markdown",
      "source": [
        "3.Write a Python program to find the longest word in a sentence.\n",
        "\n",
        "input : \"he is very good at painting and paint good sketches\""
      ],
      "metadata": {
        "id": "LiGvyCoVvnyC"
      }
    },
    {
      "cell_type": "code",
      "source": [
        "# write your code here\n",
        "def find_longest_word(sentence):\n",
        "    words = sentence.split()\n",
        "    longest_word = max(words, key=len)\n",
        "    return longest_word\n",
        "\n",
        "input_sentence = \"he is very good at painting and paint good sketches\"\n",
        "longest_word = find_longest_word(input_sentence)\n",
        "\n",
        "\n",
        "print(\"Longest word:\", longest_word)\n"
      ],
      "metadata": {
        "id": "clATuC3cwwPI",
        "colab": {
          "base_uri": "https://localhost:8080/"
        },
        "outputId": "7e09f814-54d8-4c42-af77-f62d4f6d8803"
      },
      "execution_count": 3,
      "outputs": [
        {
          "output_type": "stream",
          "name": "stdout",
          "text": [
            "Longest word: painting\n"
          ]
        }
      ]
    },
    {
      "cell_type": "markdown",
      "source": [
        "4.Write a Python program to find the length of the last word in a sentence.\n",
        "\n",
        "input : this is the most beautiful beach I ever visited"
      ],
      "metadata": {
        "id": "-QhCplQjvn0w"
      }
    },
    {
      "cell_type": "code",
      "source": [
        "# write your code here\n",
        "def length_of_last_word(sentence):\n",
        "    words = sentence.split()\n",
        "    return len(words[-1]) if words else 0\n",
        "\n",
        "input_sentence = \"this is the most beautiful beach I ever visited\"\n",
        "\n",
        "last_word_length = length_of_last_word(input_sentence)\n",
        "\n",
        "print(\"Length of the last word:\", last_word_length)\n"
      ],
      "metadata": {
        "id": "QwzbahlkxGZ-",
        "colab": {
          "base_uri": "https://localhost:8080/"
        },
        "outputId": "217afc56-2b81-48b6-9e3c-62b5f444b2c3"
      },
      "execution_count": 4,
      "outputs": [
        {
          "output_type": "stream",
          "name": "stdout",
          "text": [
            "Length of the last word: 7\n"
          ]
        }
      ]
    },
    {
      "cell_type": "markdown",
      "source": [
        "5.Write a Python program to find the second most frequent character in a string.\n",
        "\n",
        "input: the hospital is very big and this hospital has so many doctors"
      ],
      "metadata": {
        "id": "cZiXxZhsvn6q"
      }
    },
    {
      "cell_type": "code",
      "source": [
        "# write your code here\n",
        "from collections import Counter\n",
        "def second_most_frequent_char(s):\n",
        "    s = s.replace(\" \", \"\")\n",
        "    char_count = Counter(s)\n",
        "    sorted_chars = sorted(char_count.items(), key=lambda x: x[1], reverse=True)\n",
        "\n",
        "    if len(sorted_chars) < 2:\n",
        "        return \"No second most frequent character found.\"\n",
        "\n",
        "    return sorted_chars[1][0]\n",
        "\n",
        "input_string = \"the hospital is very big and this hospital has so many doctors\"\n",
        "\n",
        "result = second_most_frequent_char(input_string)\n",
        "\n",
        "print(\"Second most frequent character:\", result)\n"
      ],
      "metadata": {
        "id": "EnHquuoCxi7F",
        "colab": {
          "base_uri": "https://localhost:8080/"
        },
        "outputId": "6dbccf3a-0175-4003-c11d-11ac971197eb"
      },
      "execution_count": 5,
      "outputs": [
        {
          "output_type": "stream",
          "name": "stdout",
          "text": [
            "Second most frequent character: t\n"
          ]
        }
      ]
    }
  ]
}